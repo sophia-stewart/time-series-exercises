{
 "cells": [
  {
   "cell_type": "markdown",
   "id": "1057e220",
   "metadata": {},
   "source": [
    "# Modeling Exercises\n",
    "---\n",
    "\n",
    "## Using saas.csv or log data from API usage or store_item_sales\n",
    "\n",
    "### 1. Split data (train/validate/test) and resample by any period, except daily, and aggregate using the sum."
   ]
  },
  {
   "cell_type": "code",
   "execution_count": null,
   "id": "4d1fdc04",
   "metadata": {},
   "outputs": [],
   "source": []
  },
  {
   "cell_type": "markdown",
   "id": "1d5049a6",
   "metadata": {},
   "source": [
    "### 2. Forecast, plot and evaluate using each of the 4 parametric based methods we discussed:\n",
    "#### 2a. Simple Average"
   ]
  },
  {
   "cell_type": "code",
   "execution_count": null,
   "id": "a37181e7",
   "metadata": {},
   "outputs": [],
   "source": []
  },
  {
   "cell_type": "markdown",
   "id": "d6f5ce3c",
   "metadata": {},
   "source": [
    "#### 2b. Moving Average"
   ]
  },
  {
   "cell_type": "code",
   "execution_count": null,
   "id": "43f74b26",
   "metadata": {},
   "outputs": [],
   "source": []
  },
  {
   "cell_type": "markdown",
   "id": "4e9e947f",
   "metadata": {},
   "source": [
    "#### 2c. Holt's Linear Trend Model"
   ]
  },
  {
   "cell_type": "code",
   "execution_count": null,
   "id": "f281ab6d",
   "metadata": {},
   "outputs": [],
   "source": []
  },
  {
   "cell_type": "markdown",
   "id": "d628b287",
   "metadata": {},
   "source": [
    "#### 2d. Based on previous year/month/etc., this is up to you."
   ]
  },
  {
   "cell_type": "code",
   "execution_count": null,
   "id": "0d1e77aa",
   "metadata": {},
   "outputs": [],
   "source": []
  },
  {
   "cell_type": "markdown",
   "id": "4f4ba9a9",
   "metadata": {},
   "source": [
    "---\n",
    "## Optional: Using store item demand\n",
    "\n",
    "### 1. Predict 2018 total monthly sales for a single store and/or item by creating a model."
   ]
  },
  {
   "cell_type": "code",
   "execution_count": null,
   "id": "f41f72d9",
   "metadata": {},
   "outputs": [],
   "source": []
  },
  {
   "cell_type": "markdown",
   "id": "c2d2729e",
   "metadata": {},
   "source": [
    "### 2. Return a dataframe with the month, store_id, y-hat, and the confidence intervals (y-hat lower, y-hat upper)."
   ]
  },
  {
   "cell_type": "code",
   "execution_count": null,
   "id": "1fed7dde",
   "metadata": {},
   "outputs": [],
   "source": []
  },
  {
   "cell_type": "markdown",
   "id": "5bc21983",
   "metadata": {},
   "source": [
    "### 3. Plot the 2018 monthly sales predictions."
   ]
  },
  {
   "cell_type": "code",
   "execution_count": null,
   "id": "4bb2e0a1",
   "metadata": {},
   "outputs": [],
   "source": []
  }
 ],
 "metadata": {
  "kernelspec": {
   "display_name": "Python 3",
   "language": "python",
   "name": "python3"
  },
  "language_info": {
   "codemirror_mode": {
    "name": "ipython",
    "version": 3
   },
   "file_extension": ".py",
   "mimetype": "text/x-python",
   "name": "python",
   "nbconvert_exporter": "python",
   "pygments_lexer": "ipython3",
   "version": "3.8.8"
  }
 },
 "nbformat": 4,
 "nbformat_minor": 5
}
